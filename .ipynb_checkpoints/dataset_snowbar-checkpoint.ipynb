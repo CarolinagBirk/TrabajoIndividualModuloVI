{
 "cells": [
  {
   "cell_type": "code",
   "execution_count": 1,
   "id": "df5d49c0",
   "metadata": {},
   "outputs": [],
   "source": [
    "import pandas as pd\n",
    "\n",
    "LOCAL_PATH = \"SnowBar.csv\"\n",
    "COLUMN_NAMES = ['Rating', 'Year', 'Len', 'Label']\n",
    "\n",
    "def base_rating_review(URL=LOCAL_PATH):\n",
    "    print(\"Datos cargados con éxito\")\n",
    "    df = pd.read_csv(URL)\n",
    "    \n",
    "    # X contiene todas las columnas excepto la primera (que es y) y la última que es el nombre del modelo del auto\n",
    "    # y contiene la primera columna que es mpg\n",
    "    #X, y = df[['Year', 'Len']], df.review_rating  # regression\n",
    "    X, y = df[['Year', 'Len']], df.label # clasificacion\n",
    "    # La columna horsepower se lee como string porque tiene algunas valores NA, dejar solo las observaciones que\n",
    "    # tengan valores en todas las caracteristicas\n",
    "    # Ahora negamos el vector booleanos que nos indica los indices de observaciones NA para obtener los indices\n",
    "    # de observaciones que la variables horsepower tiene valores\n",
    "    return {\"dataset\": (X, y)}"
   ]
  },
  {
   "cell_type": "code",
   "execution_count": null,
   "id": "a8cd38a4",
   "metadata": {},
   "outputs": [],
   "source": []
  }
 ],
 "metadata": {
  "kernelspec": {
   "display_name": "Python 3 (ipykernel)",
   "language": "python",
   "name": "python3"
  },
  "language_info": {
   "codemirror_mode": {
    "name": "ipython",
    "version": 3
   },
   "file_extension": ".py",
   "mimetype": "text/x-python",
   "name": "python",
   "nbconvert_exporter": "python",
   "pygments_lexer": "ipython3",
   "version": "3.9.12"
  }
 },
 "nbformat": 4,
 "nbformat_minor": 5
}

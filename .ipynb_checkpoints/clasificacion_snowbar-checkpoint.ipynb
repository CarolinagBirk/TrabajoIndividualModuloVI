{
 "cells": [
  {
   "cell_type": "markdown",
   "id": "153e7bd0",
   "metadata": {},
   "source": []
  },
  {
   "cell_type": "markdown",
   "id": "f56b41b1",
   "metadata": {},
   "source": [
    "Objetivo: \n",
    "Datos a usar: SnowBar.csv\n"
   ]
  },
  {
   "cell_type": "markdown",
   "id": "cb752421",
   "metadata": {},
   "source": [
    "Se declaran las liberías"
   ]
  },
  {
   "cell_type": "code",
   "execution_count": 63,
   "id": "478af5db",
   "metadata": {},
   "outputs": [],
   "source": [
    "import matplotlib.pyplot as plt            # Librería para crear visualizaciones\n",
    "import seaborn as sns                      # Librería para crear visualizaciones\n",
    "import pandas as pd                        # Librería para trabajar con data-tabular (i.e. dataframe)\n",
    "import numpy as np                         # Librería prog-cientifica\n",
    "from sklearn.model_selection import train_test_split   # Para separar datos en entrenamiento y evaluación\n",
    "from sklearn.metrics import confusion_matrix           # Para crear matriz de confusion\n",
    "\n",
    "#Modelos\n",
    "from sklearn.linear_model import LogisticRegression\n",
    "from sklearn.naive_bayes import GaussianNB\n",
    "from sklearn.svm import SVC\n",
    "\n",
    "#Métricas\n",
    "from sklearn.metrics import accuracy_score, f1_score, confusion_matrix\n",
    "from sklearn.metrics import mean_squared_error, mean_absolute_error"
   ]
  },
  {
   "cell_type": "markdown",
   "id": "7e676f02",
   "metadata": {},
   "source": [
    "Cargar datos"
   ]
  },
  {
   "cell_type": "code",
   "execution_count": 16,
   "id": "3acd9bef",
   "metadata": {},
   "outputs": [],
   "source": [
    "df1 = pd.read_csv('SnowBar.csv', sep = ';')"
   ]
  },
  {
   "cell_type": "markdown",
   "id": "1e6aaf09",
   "metadata": {},
   "source": [
    "Visualización de la data"
   ]
  },
  {
   "cell_type": "code",
   "execution_count": 3,
   "id": "22c23160",
   "metadata": {},
   "outputs": [
    {
     "data": {
      "text/html": [
       "<div>\n",
       "<style scoped>\n",
       "    .dataframe tbody tr th:only-of-type {\n",
       "        vertical-align: middle;\n",
       "    }\n",
       "\n",
       "    .dataframe tbody tr th {\n",
       "        vertical-align: top;\n",
       "    }\n",
       "\n",
       "    .dataframe thead th {\n",
       "        text-align: right;\n",
       "    }\n",
       "</style>\n",
       "<table border=\"1\" class=\"dataframe\">\n",
       "  <thead>\n",
       "    <tr style=\"text-align: right;\">\n",
       "      <th></th>\n",
       "      <th>Rating</th>\n",
       "      <th>Year</th>\n",
       "      <th>Len</th>\n",
       "      <th>Label</th>\n",
       "    </tr>\n",
       "  </thead>\n",
       "  <tbody>\n",
       "    <tr>\n",
       "      <th>0</th>\n",
       "      <td>5</td>\n",
       "      <td>2022</td>\n",
       "      <td>388</td>\n",
       "      <td>1</td>\n",
       "    </tr>\n",
       "    <tr>\n",
       "      <th>1</th>\n",
       "      <td>4</td>\n",
       "      <td>2019</td>\n",
       "      <td>182</td>\n",
       "      <td>1</td>\n",
       "    </tr>\n",
       "    <tr>\n",
       "      <th>2</th>\n",
       "      <td>1</td>\n",
       "      <td>2020</td>\n",
       "      <td>167</td>\n",
       "      <td>0</td>\n",
       "    </tr>\n",
       "    <tr>\n",
       "      <th>3</th>\n",
       "      <td>4</td>\n",
       "      <td>2017</td>\n",
       "      <td>27</td>\n",
       "      <td>1</td>\n",
       "    </tr>\n",
       "    <tr>\n",
       "      <th>4</th>\n",
       "      <td>5</td>\n",
       "      <td>2018</td>\n",
       "      <td>27</td>\n",
       "      <td>1</td>\n",
       "    </tr>\n",
       "  </tbody>\n",
       "</table>\n",
       "</div>"
      ],
      "text/plain": [
       "   Rating  Year  Len  Label\n",
       "0       5  2022  388      1\n",
       "1       4  2019  182      1\n",
       "2       1  2020  167      0\n",
       "3       4  2017   27      1\n",
       "4       5  2018   27      1"
      ]
     },
     "execution_count": 3,
     "metadata": {},
     "output_type": "execute_result"
    }
   ],
   "source": [
    "df1.head()"
   ]
  },
  {
   "cell_type": "code",
   "execution_count": 9,
   "id": "28429ca2",
   "metadata": {},
   "outputs": [
    {
     "data": {
      "text/html": [
       "<div>\n",
       "<style scoped>\n",
       "    .dataframe tbody tr th:only-of-type {\n",
       "        vertical-align: middle;\n",
       "    }\n",
       "\n",
       "    .dataframe tbody tr th {\n",
       "        vertical-align: top;\n",
       "    }\n",
       "\n",
       "    .dataframe thead th {\n",
       "        text-align: right;\n",
       "    }\n",
       "</style>\n",
       "<table border=\"1\" class=\"dataframe\">\n",
       "  <thead>\n",
       "    <tr style=\"text-align: right;\">\n",
       "      <th></th>\n",
       "      <th>Rating</th>\n",
       "      <th>Year</th>\n",
       "      <th>Len</th>\n",
       "      <th>Label</th>\n",
       "    </tr>\n",
       "  </thead>\n",
       "  <tbody>\n",
       "    <tr>\n",
       "      <th>count</th>\n",
       "      <td>350.000000</td>\n",
       "      <td>350.000000</td>\n",
       "      <td>350.000000</td>\n",
       "      <td>350.000000</td>\n",
       "    </tr>\n",
       "    <tr>\n",
       "      <th>mean</th>\n",
       "      <td>4.314286</td>\n",
       "      <td>2019.422857</td>\n",
       "      <td>95.168571</td>\n",
       "      <td>0.825714</td>\n",
       "    </tr>\n",
       "    <tr>\n",
       "      <th>std</th>\n",
       "      <td>1.198648</td>\n",
       "      <td>1.484801</td>\n",
       "      <td>113.292646</td>\n",
       "      <td>0.379898</td>\n",
       "    </tr>\n",
       "    <tr>\n",
       "      <th>min</th>\n",
       "      <td>1.000000</td>\n",
       "      <td>2017.000000</td>\n",
       "      <td>0.000000</td>\n",
       "      <td>0.000000</td>\n",
       "    </tr>\n",
       "    <tr>\n",
       "      <th>25%</th>\n",
       "      <td>4.000000</td>\n",
       "      <td>2018.000000</td>\n",
       "      <td>26.000000</td>\n",
       "      <td>1.000000</td>\n",
       "    </tr>\n",
       "    <tr>\n",
       "      <th>50%</th>\n",
       "      <td>5.000000</td>\n",
       "      <td>2019.000000</td>\n",
       "      <td>60.000000</td>\n",
       "      <td>1.000000</td>\n",
       "    </tr>\n",
       "    <tr>\n",
       "      <th>75%</th>\n",
       "      <td>5.000000</td>\n",
       "      <td>2021.000000</td>\n",
       "      <td>112.000000</td>\n",
       "      <td>1.000000</td>\n",
       "    </tr>\n",
       "    <tr>\n",
       "      <th>max</th>\n",
       "      <td>5.000000</td>\n",
       "      <td>2022.000000</td>\n",
       "      <td>867.000000</td>\n",
       "      <td>1.000000</td>\n",
       "    </tr>\n",
       "  </tbody>\n",
       "</table>\n",
       "</div>"
      ],
      "text/plain": [
       "           Rating         Year         Len       Label\n",
       "count  350.000000   350.000000  350.000000  350.000000\n",
       "mean     4.314286  2019.422857   95.168571    0.825714\n",
       "std      1.198648     1.484801  113.292646    0.379898\n",
       "min      1.000000  2017.000000    0.000000    0.000000\n",
       "25%      4.000000  2018.000000   26.000000    1.000000\n",
       "50%      5.000000  2019.000000   60.000000    1.000000\n",
       "75%      5.000000  2021.000000  112.000000    1.000000\n",
       "max      5.000000  2022.000000  867.000000    1.000000"
      ]
     },
     "execution_count": 9,
     "metadata": {},
     "output_type": "execute_result"
    }
   ],
   "source": [
    "df1.describe()"
   ]
  },
  {
   "cell_type": "code",
   "execution_count": 10,
   "id": "4739232d",
   "metadata": {},
   "outputs": [
    {
     "name": "stdout",
     "output_type": "stream",
     "text": [
      "===================================================================\n",
      "Tamaño del dataframe:\n",
      "(350, 4)\n",
      "===================================================================\n",
      "Tipo de variable de las columnas:\n",
      "Rating    int64\n",
      "Year      int64\n",
      "Len       int64\n",
      "Label     int64\n",
      "dtype: object\n",
      "===================================================================\n",
      "Cantidad de valores nulos por columna:\n",
      "Rating    0\n",
      "Year      0\n",
      "Len       0\n",
      "Label     0\n",
      "dtype: int64\n",
      "===================================================================\n"
     ]
    }
   ],
   "source": [
    "print(\"===================================================================\")\n",
    "print(\"Tamaño del dataframe:\")\n",
    "print(df1.shape)\n",
    "print(\"===================================================================\")\n",
    "print(\"Tipo de variable de las columnas:\")\n",
    "print(df1.dtypes)\n",
    "print(\"===================================================================\")\n",
    "print(\"Cantidad de valores nulos por columna:\")\n",
    "print(df1.isna().sum())\n",
    "print(\"===================================================================\")"
   ]
  },
  {
   "cell_type": "markdown",
   "id": "d39450f1",
   "metadata": {},
   "source": [
    "Definición de variables.\n",
    "Variable a predecir: Label"
   ]
  },
  {
   "cell_type": "code",
   "execution_count": 11,
   "id": "1f7e4195",
   "metadata": {},
   "outputs": [],
   "source": [
    "X, y = df1[['Year', 'Len']], df1.Label"
   ]
  },
  {
   "cell_type": "code",
   "execution_count": 12,
   "id": "5e9c27ea",
   "metadata": {},
   "outputs": [
    {
     "data": {
      "text/plain": [
       "((350, 2), (350,))"
      ]
     },
     "execution_count": 12,
     "metadata": {},
     "output_type": "execute_result"
    }
   ],
   "source": [
    "X.shape, y.shape"
   ]
  },
  {
   "cell_type": "code",
   "execution_count": 13,
   "id": "d7354071",
   "metadata": {},
   "outputs": [
    {
     "data": {
      "text/html": [
       "<div>\n",
       "<style scoped>\n",
       "    .dataframe tbody tr th:only-of-type {\n",
       "        vertical-align: middle;\n",
       "    }\n",
       "\n",
       "    .dataframe tbody tr th {\n",
       "        vertical-align: top;\n",
       "    }\n",
       "\n",
       "    .dataframe thead th {\n",
       "        text-align: right;\n",
       "    }\n",
       "</style>\n",
       "<table border=\"1\" class=\"dataframe\">\n",
       "  <thead>\n",
       "    <tr style=\"text-align: right;\">\n",
       "      <th></th>\n",
       "      <th>Year</th>\n",
       "      <th>Len</th>\n",
       "    </tr>\n",
       "  </thead>\n",
       "  <tbody>\n",
       "    <tr>\n",
       "      <th>0</th>\n",
       "      <td>2022</td>\n",
       "      <td>388</td>\n",
       "    </tr>\n",
       "    <tr>\n",
       "      <th>1</th>\n",
       "      <td>2019</td>\n",
       "      <td>182</td>\n",
       "    </tr>\n",
       "  </tbody>\n",
       "</table>\n",
       "</div>"
      ],
      "text/plain": [
       "   Year  Len\n",
       "0  2022  388\n",
       "1  2019  182"
      ]
     },
     "execution_count": 13,
     "metadata": {},
     "output_type": "execute_result"
    }
   ],
   "source": [
    "X.head(n=2)"
   ]
  },
  {
   "cell_type": "code",
   "execution_count": 14,
   "id": "622fb5e2",
   "metadata": {},
   "outputs": [
    {
     "data": {
      "text/plain": [
       "0    1\n",
       "1    1\n",
       "Name: Label, dtype: int64"
      ]
     },
     "execution_count": 14,
     "metadata": {},
     "output_type": "execute_result"
    }
   ],
   "source": [
    "y.head(n=2)"
   ]
  },
  {
   "cell_type": "code",
   "execution_count": 15,
   "id": "e33390d5",
   "metadata": {},
   "outputs": [
    {
     "data": {
      "text/plain": [
       "array([1, 0], dtype=int64)"
      ]
     },
     "execution_count": 15,
     "metadata": {},
     "output_type": "execute_result"
    }
   ],
   "source": [
    "y.unique()"
   ]
  },
  {
   "cell_type": "markdown",
   "id": "f0ac8db5",
   "metadata": {},
   "source": [
    "Separación para data de entrenamiento y de pruebas"
   ]
  },
  {
   "cell_type": "code",
   "execution_count": 17,
   "id": "4883fe53",
   "metadata": {},
   "outputs": [],
   "source": [
    "X_train, X_test, y_train, y_test = train_test_split(X, y, test_size=0.2, random_state=42)"
   ]
  },
  {
   "cell_type": "code",
   "execution_count": 18,
   "id": "a2773bb1",
   "metadata": {},
   "outputs": [
    {
     "data": {
      "text/plain": [
       "((280, 2), (70, 2))"
      ]
     },
     "execution_count": 18,
     "metadata": {},
     "output_type": "execute_result"
    }
   ],
   "source": [
    "X_train.shape, X_test.shape"
   ]
  },
  {
   "cell_type": "code",
   "execution_count": 19,
   "id": "923e50f2",
   "metadata": {},
   "outputs": [
    {
     "data": {
      "text/plain": [
       "((280,), (70,))"
      ]
     },
     "execution_count": 19,
     "metadata": {},
     "output_type": "execute_result"
    }
   ],
   "source": [
    "y_train.shape, y_test.shape"
   ]
  },
  {
   "cell_type": "code",
   "execution_count": 21,
   "id": "1ee8f0aa",
   "metadata": {},
   "outputs": [
    {
     "data": {
      "image/png": "[encoded data removed]",
      "text/plain": [
       "<Figure size 1008x360 with 1 Axes>"
      ]
     },
     "metadata": {
      "needs_background": "light"
     },
     "output_type": "display_data"
    }
   ],
   "source": [
    "plt.figure(figsize=(14, 5))\n",
    "plt.scatter(X_train['Year'], X_train['Len'], c=y_train);"
   ]
  },
  {
   "cell_type": "markdown",
   "id": "a7f8c03e",
   "metadata": {},
   "source": [
    "Modelos:\n",
    "Regresión Logistica,\n",
    "Naive Bayes,\n",
    "SVM"
   ]
  },
  {
   "cell_type": "code",
   "execution_count": 36,
   "id": "15321e8e",
   "metadata": {},
   "outputs": [],
   "source": [
    "RND_STATE=42\n",
    "\n",
    "\n",
    "def reg_logistica(X, y):\n",
    "    clf = LogisticRegression(random_state=RND_STATE)\n",
    "    return clf.fit(X, y)\n",
    "\n",
    "def gaussian_naive_bayes(X, y):\n",
    "    clf = GaussianNB()\n",
    "    return clf.fit(X, y)\n",
    "\n",
    "\"\"\" Modelo adicional \"\"\"\n",
    "def svm_cls(X, y):\n",
    "    clf = SVC()\n",
    "    return clf.fit(X, y)"
   ]
  },
  {
   "cell_type": "code",
   "execution_count": 37,
   "id": "e4cb652d",
   "metadata": {},
   "outputs": [],
   "source": [
    "modelo_reg_logistica = reg_logistica(X_train, y_train.values.ravel())\n",
    "modelo_naive_bayes = gaussian_naive_bayes(X_train, y_train.values.ravel())\n",
    "modelo_svm = svm_cls(X_train, y_train.values.ravel())"
   ]
  },
  {
   "cell_type": "code",
   "execution_count": 40,
   "id": "6a2ac098",
   "metadata": {},
   "outputs": [],
   "source": [
    "reg_logistica_preds = modelo_reg_logistica.predict(X_test)\n",
    "naive_bayes_preds = modelo_naive_bayes.predict(X_test)\n",
    "svm_pred = modelo_svm.predict(X_test)"
   ]
  },
  {
   "cell_type": "markdown",
   "id": "f10321bb",
   "metadata": {},
   "source": [
    "Métricas"
   ]
  },
  {
   "cell_type": "code",
   "execution_count": 44,
   "id": "d5319222",
   "metadata": {},
   "outputs": [],
   "source": [
    "def metrica_accuracy(y_verdad, y_preds):\n",
    "    \"\"\"Métrica de clasificación Accuracy\"\"\"\n",
    "    return accuracy_score(y_verdad, y_preds)\n",
    "\n",
    "\n",
    "def metrica_f1score(y_verdad, y_preds, avg='micro'):\n",
    "    \"\"\"Métrica de clasificación F1-score\"\"\"\n",
    "    return f1_score(y_verdad, y_preds, average=avg)\n",
    "\n",
    "\n",
    "def matriz_confusion(y_verdad, y_preds):\n",
    "    \"\"\"Obtener matriz de confusion\"\"\"\n",
    "    return confusion_matrix(y_verdad, y_preds)\n",
    "\n",
    "\n",
    "def metrica_mse(y_verdad, y_preds):\n",
    "    \"\"\"Métrica de regresión error cuadrático medio\"\"\"\n",
    "    return mean_squared_error(y_verdad, y_preds)\n",
    "\n",
    "\n",
    "def metrica_mae(y_verdad, y_preds):\n",
    "    \"\"\"Métrica de regresión error media absoluta\"\"\"\n",
    "    return mean_absolute_error(y_verdad, y_preds)"
   ]
  },
  {
   "cell_type": "code",
   "execution_count": 45,
   "id": "a7ea8cb9",
   "metadata": {},
   "outputs": [
    {
     "name": "stdout",
     "output_type": "stream",
     "text": [
      "Desempeño regresión logistica según accuracy: 0.8857142857142857\n",
      "Desempeño naive bayes según accuracy: 0.8857142857142857\n"
     ]
    }
   ],
   "source": [
    "print(f'Desempeño regresión logistica según accuracy: {metrica_accuracy(y_test, reg_logistica_preds)}')\n",
    "print(f'Desempeño naive bayes según accuracy: {metrica_accuracy(y_test, naive_bayes_preds)}')"
   ]
  },
  {
   "cell_type": "code",
   "execution_count": 46,
   "id": "8eb6359b",
   "metadata": {},
   "outputs": [
    {
     "name": "stdout",
     "output_type": "stream",
     "text": [
      "Desempeño regresión logistica según f1-score: 0.8857142857142857\n",
      "Desempeño naive bayes según f1-score: 0.8857142857142857\n"
     ]
    }
   ],
   "source": [
    "print(f'Desempeño regresión logistica según f1-score: {metrica_f1score(y_test, reg_logistica_preds)}')\n",
    "print(f'Desempeño naive bayes según f1-score: {metrica_f1score(y_test, naive_bayes_preds)}')"
   ]
  },
  {
   "cell_type": "code",
   "execution_count": 47,
   "id": "8811e283",
   "metadata": {},
   "outputs": [
    {
     "data": {
      "text/plain": [
       "array([[ 1,  7],\n",
       "       [ 1, 61]], dtype=int64)"
      ]
     },
     "execution_count": 47,
     "metadata": {},
     "output_type": "execute_result"
    }
   ],
   "source": [
    "confusion_matrix(y_test, reg_logistica_preds)"
   ]
  },
  {
   "cell_type": "code",
   "execution_count": 48,
   "id": "7f9d9469",
   "metadata": {},
   "outputs": [
    {
     "data": {
      "text/plain": [
       "array([[ 1,  7],\n",
       "       [ 1, 61]], dtype=int64)"
      ]
     },
     "execution_count": 48,
     "metadata": {},
     "output_type": "execute_result"
    }
   ],
   "source": [
    "confusion_matrix(y_test, naive_bayes_preds)"
   ]
  },
  {
   "cell_type": "code",
   "execution_count": 58,
   "id": "bb8a1cd4",
   "metadata": {},
   "outputs": [],
   "source": [
    "def plot_matriz_confusion(cf, CMAP='Blues_r'):\n",
    "    \"\"\"Recibe un array con la matriz de confusion\"\"\"\n",
    "    classes = ['0', '1']\n",
    "    df_cm_log = pd.DataFrame(cf / np.sum(cf) * 100,\n",
    "                             index = [i for i in classes],\n",
    "                             columns = [i for i in classes])\n",
    "    sns.heatmap(df_cm_log, annot=True, cmap=CMAP, linewidth=.5,\n",
    "                linecolor='lightgrey', annot_kws={'size': 8.5},);"
   ]
  },
  {
   "cell_type": "code",
   "execution_count": 59,
   "id": "8f1592d3",
   "metadata": {},
   "outputs": [
    {
     "data": {
      "image/png": "[encoded data removed]",
      "text/plain": [
       "<Figure size 432x288 with 2 Axes>"
      ]
     },
     "metadata": {
      "needs_background": "light"
     },
     "output_type": "display_data"
    }
   ],
   "source": [
    "plot_matriz_confusion(confusion_matrix(y_test, reg_logistica_preds))"
   ]
  },
  {
   "cell_type": "code",
   "execution_count": 60,
   "id": "5c718fbe",
   "metadata": {},
   "outputs": [
    {
     "data": {
      "image/png": "[encoded data removed]",
      "text/plain": [
       "<Figure size 432x288 with 2 Axes>"
      ]
     },
     "metadata": {
      "needs_background": "light"
     },
     "output_type": "display_data"
    }
   ],
   "source": [
    "plot_matriz_confusion(confusion_matrix(y_test, naive_bayes_preds))"
   ]
  },
  {
   "cell_type": "code",
   "execution_count": 61,
   "id": "3aec1f04",
   "metadata": {},
   "outputs": [
    {
     "data": {
      "image/png": "[encoded data removed]",
      "text/plain": [
       "<Figure size 432x288 with 2 Axes>"
      ]
     },
     "metadata": {
      "needs_background": "light"
     },
     "output_type": "display_data"
    }
   ],
   "source": [
    "plot_matriz_confusion(confusion_matrix(y_test, svm_pred))"
   ]
  },
  {
   "cell_type": "code",
   "execution_count": 62,
   "id": "e3e19966",
   "metadata": {},
   "outputs": [
    {
     "name": "stdout",
     "output_type": "stream",
     "text": [
      "[[ 0  8]\n",
      " [ 0 62]]\n",
      "              precision    recall  f1-score   support\n",
      "\n",
      "           0       0.00      0.00      0.00         8\n",
      "           1       0.89      1.00      0.94        62\n",
      "\n",
      "    accuracy                           0.89        70\n",
      "   macro avg       0.44      0.50      0.47        70\n",
      "weighted avg       0.78      0.89      0.83        70\n",
      "\n"
     ]
    },
    {
     "name": "stderr",
     "output_type": "stream",
     "text": [
      "C:\\Users\\carol\\anaconda3\\lib\\site-packages\\sklearn\\metrics\\_classification.py:1318: UndefinedMetricWarning: Precision and F-score are ill-defined and being set to 0.0 in labels with no predicted samples. Use `zero_division` parameter to control this behavior.\n",
      "  _warn_prf(average, modifier, msg_start, len(result))\n",
      "C:\\Users\\carol\\anaconda3\\lib\\site-packages\\sklearn\\metrics\\_classification.py:1318: UndefinedMetricWarning: Precision and F-score are ill-defined and being set to 0.0 in labels with no predicted samples. Use `zero_division` parameter to control this behavior.\n",
      "  _warn_prf(average, modifier, msg_start, len(result))\n",
      "C:\\Users\\carol\\anaconda3\\lib\\site-packages\\sklearn\\metrics\\_classification.py:1318: UndefinedMetricWarning: Precision and F-score are ill-defined and being set to 0.0 in labels with no predicted samples. Use `zero_division` parameter to control this behavior.\n",
      "  _warn_prf(average, modifier, msg_start, len(result))\n"
     ]
    }
   ],
   "source": [
    "from sklearn.metrics import classification_report, confusion_matrix\n",
    "print(confusion_matrix(y_test,y_pred))\n",
    "print(classification_report(y_test,y_pred))"
   ]
  }
 ],
 "metadata": {
  "kernelspec": {
   "display_name": "Python 3 (ipykernel)",
   "language": "python",
   "name": "python3"
  },
  "language_info": {
   "codemirror_mode": {
    "name": "ipython",
    "version": 3
   },
   "file_extension": ".py",
   "mimetype": "text/x-python",
   "name": "python",
   "nbconvert_exporter": "python",
   "pygments_lexer": "ipython3",
   "version": "3.9.12"
  }
 },
 "nbformat": 4,
 "nbformat_minor": 5
}

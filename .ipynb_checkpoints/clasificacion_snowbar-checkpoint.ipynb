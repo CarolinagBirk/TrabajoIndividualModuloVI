{
 "cells": [
  {
   "cell_type": "code",
   "execution_count": 2,
   "id": "a96676ef",
   "metadata": {},
   "outputs": [],
   "source": [
    "#import dataset_snowbar as d              # Funciones y rutinas para descargar, procesar los datos, y cargarlos\n",
    "#import modelo_snowbar as m                # Clase con el modelo a implementar\n",
    "#import metricas_snowbar as me              # Metrics utilizadas para el análisis\n",
    "import matplotlib.pyplot as plt            # Librería para crear visualizaciones\n",
    "import seaborn as sns                      # Librería para crear visualizaciones\n",
    "import pandas as pd                        # Librería para trabajar con data-tabular (i.e. dataframe)\n",
    "import numpy as np                         # Librería prog-cientifica\n",
    "from sklearn.model_selection import train_test_split   # Para separar datos en entrenamiento y evaluación\n",
    "from sklearn.metrics import confusion_matrix           # Para crear matriz de confusion\n",
    "from sklearn.svm import SVC"
   ]
  },
  {
   "cell_type": "code",
   "execution_count": 6,
   "id": "4be17571",
   "metadata": {},
   "outputs": [
    {
     "ename": "SyntaxError",
     "evalue": "invalid syntax (4119826734.py, line 1)",
     "output_type": "error",
     "traceback": [
      "\u001b[1;36m  Input \u001b[1;32mIn [6]\u001b[1;36m\u001b[0m\n\u001b[1;33m    df1 = pd.read_csv('SnowBar.csv', sep = ;)\u001b[0m\n\u001b[1;37m                                           ^\u001b[0m\n\u001b[1;31mSyntaxError\u001b[0m\u001b[1;31m:\u001b[0m invalid syntax\n"
     ]
    }
   ],
   "source": [
    "df1 = pd.read_csv('SnowBar.csv', sep = ;)"
   ]
  },
  {
   "cell_type": "code",
   "execution_count": 4,
   "id": "22c23160",
   "metadata": {},
   "outputs": [
    {
     "data": {
      "text/html": [
       "<div>\n",
       "<style scoped>\n",
       "    .dataframe tbody tr th:only-of-type {\n",
       "        vertical-align: middle;\n",
       "    }\n",
       "\n",
       "    .dataframe tbody tr th {\n",
       "        vertical-align: top;\n",
       "    }\n",
       "\n",
       "    .dataframe thead th {\n",
       "        text-align: right;\n",
       "    }\n",
       "</style>\n",
       "<table border=\"1\" class=\"dataframe\">\n",
       "  <thead>\n",
       "    <tr style=\"text-align: right;\">\n",
       "      <th></th>\n",
       "      <th>Rating;Year;Len;Label</th>\n",
       "    </tr>\n",
       "  </thead>\n",
       "  <tbody>\n",
       "    <tr>\n",
       "      <th>0</th>\n",
       "      <td>5;2022;388;1</td>\n",
       "    </tr>\n",
       "    <tr>\n",
       "      <th>1</th>\n",
       "      <td>4;2019;182;1</td>\n",
       "    </tr>\n",
       "    <tr>\n",
       "      <th>2</th>\n",
       "      <td>1;2020;167;0</td>\n",
       "    </tr>\n",
       "    <tr>\n",
       "      <th>3</th>\n",
       "      <td>4;2017;27;1</td>\n",
       "    </tr>\n",
       "    <tr>\n",
       "      <th>4</th>\n",
       "      <td>5;2018;27;1</td>\n",
       "    </tr>\n",
       "  </tbody>\n",
       "</table>\n",
       "</div>"
      ],
      "text/plain": [
       "  Rating;Year;Len;Label\n",
       "0          5;2022;388;1\n",
       "1          4;2019;182;1\n",
       "2          1;2020;167;0\n",
       "3           4;2017;27;1\n",
       "4           5;2018;27;1"
      ]
     },
     "execution_count": 4,
     "metadata": {},
     "output_type": "execute_result"
    }
   ],
   "source": [
    "df1.head()"
   ]
  },
  {
   "cell_type": "code",
   "execution_count": null,
   "id": "6625bdad",
   "metadata": {},
   "outputs": [],
   "source": [
    "help(d.base_rating_review)"
   ]
  },
  {
   "cell_type": "code",
   "execution_count": 5,
   "id": "7f1039bb",
   "metadata": {},
   "outputs": [
    {
     "data": {
      "text/html": [
       "<div>\n",
       "<style scoped>\n",
       "    .dataframe tbody tr th:only-of-type {\n",
       "        vertical-align: middle;\n",
       "    }\n",
       "\n",
       "    .dataframe tbody tr th {\n",
       "        vertical-align: top;\n",
       "    }\n",
       "\n",
       "    .dataframe thead th {\n",
       "        text-align: right;\n",
       "    }\n",
       "</style>\n",
       "<table border=\"1\" class=\"dataframe\">\n",
       "  <thead>\n",
       "    <tr style=\"text-align: right;\">\n",
       "      <th></th>\n",
       "      <th>Rating;Year;Len;Label</th>\n",
       "    </tr>\n",
       "  </thead>\n",
       "  <tbody>\n",
       "    <tr>\n",
       "      <th>0</th>\n",
       "      <td>5;2022;388;1</td>\n",
       "    </tr>\n",
       "    <tr>\n",
       "      <th>1</th>\n",
       "      <td>4;2019;182;1</td>\n",
       "    </tr>\n",
       "    <tr>\n",
       "      <th>2</th>\n",
       "      <td>1;2020;167;0</td>\n",
       "    </tr>\n",
       "    <tr>\n",
       "      <th>3</th>\n",
       "      <td>4;2017;27;1</td>\n",
       "    </tr>\n",
       "    <tr>\n",
       "      <th>4</th>\n",
       "      <td>5;2018;27;1</td>\n",
       "    </tr>\n",
       "    <tr>\n",
       "      <th>...</th>\n",
       "      <td>...</td>\n",
       "    </tr>\n",
       "    <tr>\n",
       "      <th>345</th>\n",
       "      <td>5;2022;0;1</td>\n",
       "    </tr>\n",
       "    <tr>\n",
       "      <th>346</th>\n",
       "      <td>4;2022;0;1</td>\n",
       "    </tr>\n",
       "    <tr>\n",
       "      <th>347</th>\n",
       "      <td>5;2021;0;1</td>\n",
       "    </tr>\n",
       "    <tr>\n",
       "      <th>348</th>\n",
       "      <td>5;2021;0;1</td>\n",
       "    </tr>\n",
       "    <tr>\n",
       "      <th>349</th>\n",
       "      <td>5;2019;0;1</td>\n",
       "    </tr>\n",
       "  </tbody>\n",
       "</table>\n",
       "<p>350 rows × 1 columns</p>\n",
       "</div>"
      ],
      "text/plain": [
       "    Rating;Year;Len;Label\n",
       "0            5;2022;388;1\n",
       "1            4;2019;182;1\n",
       "2            1;2020;167;0\n",
       "3             4;2017;27;1\n",
       "4             5;2018;27;1\n",
       "..                    ...\n",
       "345            5;2022;0;1\n",
       "346            4;2022;0;1\n",
       "347            5;2021;0;1\n",
       "348            5;2021;0;1\n",
       "349            5;2019;0;1\n",
       "\n",
       "[350 rows x 1 columns]"
      ]
     },
     "execution_count": 5,
     "metadata": {},
     "output_type": "execute_result"
    }
   ],
   "source": [
    "df1"
   ]
  },
  {
   "cell_type": "code",
   "execution_count": 4,
   "id": "b10338c1",
   "metadata": {},
   "outputs": [
    {
     "ename": "NameError",
     "evalue": "name 'd' is not defined",
     "output_type": "error",
     "traceback": [
      "\u001b[1;31m---------------------------------------------------------------------------\u001b[0m",
      "\u001b[1;31mNameError\u001b[0m                                 Traceback (most recent call last)",
      "Input \u001b[1;32mIn [4]\u001b[0m, in \u001b[0;36m<cell line: 1>\u001b[1;34m()\u001b[0m\n\u001b[1;32m----> 1\u001b[0m data \u001b[38;5;241m=\u001b[39m \u001b[43md\u001b[49m\u001b[38;5;241m.\u001b[39mbase_rating_review()\n\u001b[0;32m      2\u001b[0m X, y \u001b[38;5;241m=\u001b[39m data[\u001b[38;5;124m'\u001b[39m\u001b[38;5;124mdataset\u001b[39m\u001b[38;5;124m'\u001b[39m]\n",
      "\u001b[1;31mNameError\u001b[0m: name 'd' is not defined"
     ]
    }
   ],
   "source": [
    "data = d.base_rating_review()\n",
    "X, y = data['dataset']"
   ]
  },
  {
   "cell_type": "code",
   "execution_count": null,
   "id": "817789fa",
   "metadata": {},
   "outputs": [],
   "source": [
    "X.shape, y.shape"
   ]
  },
  {
   "cell_type": "code",
   "execution_count": null,
   "id": "005a4332",
   "metadata": {},
   "outputs": [],
   "source": [
    "X.head(n=2)"
   ]
  },
  {
   "cell_type": "code",
   "execution_count": null,
   "id": "fb4adf30",
   "metadata": {},
   "outputs": [],
   "source": [
    "y.head(n=2)"
   ]
  },
  {
   "cell_type": "code",
   "execution_count": null,
   "id": "8eb6359b",
   "metadata": {},
   "outputs": [],
   "source": [
    "y.unique()"
   ]
  },
  {
   "cell_type": "code",
   "execution_count": null,
   "id": "8811e283",
   "metadata": {},
   "outputs": [],
   "source": [
    "X_train, X_test, y_train, y_test = train_test_split(X, y, test_size=0.2, random_state=42)"
   ]
  },
  {
   "cell_type": "code",
   "execution_count": null,
   "id": "7f9d9469",
   "metadata": {},
   "outputs": [],
   "source": [
    "X_train.shape, X_test.shape"
   ]
  },
  {
   "cell_type": "code",
   "execution_count": null,
   "id": "bb8a1cd4",
   "metadata": {},
   "outputs": [],
   "source": [
    "y_train.shape, y_test.shape"
   ]
  },
  {
   "cell_type": "code",
   "execution_count": null,
   "id": "8f1592d3",
   "metadata": {},
   "outputs": [],
   "source": [
    "plt.scatter(X_train['sepal_length'], X_train['sepal_width'], c=y_train);"
   ]
  },
  {
   "cell_type": "code",
   "execution_count": null,
   "id": "5c718fbe",
   "metadata": {},
   "outputs": [],
   "source": [
    "modelo_reg_logistica = m.reg_logistica(X_train, y_train.values.ravel())\n",
    "modelo_naive_bayes = m.gaussian_naive_bayes(X_train, y_train.values.ravel())\n",
    "modelo_svm = m.svm_cls(X_train, y_train.values.ravel())"
   ]
  },
  {
   "cell_type": "code",
   "execution_count": null,
   "id": "3aec1f04",
   "metadata": {},
   "outputs": [],
   "source": [
    "reg_logistica_preds = modelo_reg_logistica.predict(X_test)\n",
    "naive_bayes_preds = modelo_naive_bayes.predict(X_test)\n",
    "y_pred = svclassifier.predict(X_test)"
   ]
  },
  {
   "cell_type": "code",
   "execution_count": null,
   "id": "e3e19966",
   "metadata": {},
   "outputs": [],
   "source": [
    "print(f'Desempeño regresión logistica según accuracy: {me.metrica_accuracy(y_test, reg_logistica_preds)}')\n",
    "print(f'Desempeño naive bayes según accuracy: {me.metrica_accuracy(y_test, naive_bayes_preds)}')"
   ]
  },
  {
   "cell_type": "code",
   "execution_count": null,
   "id": "1ec09435",
   "metadata": {},
   "outputs": [],
   "source": [
    "print(f'Desempeño regresión logistica según f1-score: {me.metrica_f1score(y_test, reg_logistica_preds)}')\n",
    "print(f'Desempeño naive bayes según f1-score: {me.metrica_f1score(y_test, naive_bayes_preds)}')"
   ]
  },
  {
   "cell_type": "code",
   "execution_count": null,
   "id": "404a47ef",
   "metadata": {},
   "outputs": [],
   "source": [
    "confusion_matrix(y_test, reg_logistica_preds)"
   ]
  },
  {
   "cell_type": "code",
   "execution_count": null,
   "id": "18e876d4",
   "metadata": {},
   "outputs": [],
   "source": [
    "confusion_matrix(y_test, naive_bayes_preds)"
   ]
  },
  {
   "cell_type": "code",
   "execution_count": null,
   "id": "02787d6d",
   "metadata": {},
   "outputs": [],
   "source": [
    "def plot_matriz_confusion(cf, CMAP='Blues_r'):\n",
    "    \"\"\"Recibe un array con la matriz de confusion\"\"\"\n",
    "    classes = ['setosa', 'versicolor', 'virginica']\n",
    "    df_cm_log = pd.DataFrame(cf / np.sum(cf) * 100,\n",
    "                             index = [i for i in classes],\n",
    "                             columns = [i for i in classes])\n",
    "    sns.heatmap(df_cm_log, annot=True, cmap=CMAP, linewidth=.5,\n",
    "                linecolor='lightgrey', annot_kws={'size': 8.5},);"
   ]
  },
  {
   "cell_type": "code",
   "execution_count": null,
   "id": "b0dc7a04",
   "metadata": {},
   "outputs": [],
   "source": [
    "plot_matriz_confusion(confusion_matrix(y_test, reg_logistica_preds))"
   ]
  },
  {
   "cell_type": "code",
   "execution_count": null,
   "id": "8fa09dbc",
   "metadata": {},
   "outputs": [],
   "source": [
    "plot_matriz_confusion(confusion_matrix(y_test, naive_bayes_preds))"
   ]
  },
  {
   "cell_type": "code",
   "execution_count": null,
   "id": "d8f02fd4",
   "metadata": {},
   "outputs": [],
   "source": [
    "plot_matriz_confusion(confusion_matrix(y_test, naive_bayes_preds))"
   ]
  },
  {
   "cell_type": "code",
   "execution_count": null,
   "id": "d80cd24c",
   "metadata": {},
   "outputs": [],
   "source": [
    "from sklearn.metrics import classification_report, confusion_matrix\n",
    "print(confusion_matrix(y_test,y_pred))\n",
    "print(classification_report(y_test,y_pred))"
   ]
  }
 ],
 "metadata": {
  "kernelspec": {
   "display_name": "Python 3 (ipykernel)",
   "language": "python",
   "name": "python3"
  },
  "language_info": {
   "codemirror_mode": {
    "name": "ipython",
    "version": 3
   },
   "file_extension": ".py",
   "mimetype": "text/x-python",
   "name": "python",
   "nbconvert_exporter": "python",
   "pygments_lexer": "ipython3",
   "version": "3.9.12"
  }
 },
 "nbformat": 4,
 "nbformat_minor": 5
}

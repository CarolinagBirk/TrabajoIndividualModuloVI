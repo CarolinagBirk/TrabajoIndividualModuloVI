{
 "cells": [
  {
   "cell_type": "code",
   "execution_count": 1,
   "id": "7ab2f5df",
   "metadata": {},
   "outputs": [],
   "source": [
    "from sklearn.linear_model import LogisticRegression\n",
    "from sklearn.naive_bayes import GaussianNB\n",
    "from sklearn.linear_model import LinearRegression\n",
    "from sklearn.neighbors import KNeighborsRegressor\n",
    "\n",
    "RND_STATE=42\n",
    "\n",
    "\n",
    "def reg_logistica(X, y):\n",
    "    \"\"\"Documentación de este modelo: \"\"\"\n",
    "    clf = LogisticRegression(random_state=RND_STATE)\n",
    "    return clf.fit(X, y)\n",
    "\n",
    "\n",
    "def gaussian_naive_bayes(X, y):\n",
    "    \"\"\"Documentación de este modelo: https://scikit-learn.org/stable/modules/generated/sklearn.naive_bayes.GaussianNB\n",
    "    .html \"\"\"\n",
    "    clf = GaussianNB()\n",
    "    return clf.fit(X, y)\n",
    "\n",
    "\n",
    "def reg_lineal(X, y):\n",
    "    \"\"\"Documentación de este modelo: \"\"\"\n",
    "    reg = LinearRegression()\n",
    "    return reg.fit(X, y)\n",
    "\n",
    "def reg_KNN(X, y, num_vecinos=5):\n",
    "    \"\"\"Documentación de este modelo: \"\"\"\n",
    "    reg = KNeighborsRegressor(n_neighbors=num_vecinos)\n",
    "    return reg.fit(X, y)\n",
    "\n",
    "\n",
    "\n",
    "\n",
    "\n",
    "\"\"\" Modelo adicional \"\"\"\n",
    "\n",
    "\n",
    "\n",
    "def smv_cls(X, y):\n",
    "    \"\"\"Documentación de este modelo: \"\"\"\n",
    "    clf = smv.SVC()\n",
    "    return reg.fit(X, y)"
   ]
  },
  {
   "cell_type": "code",
   "execution_count": null,
   "id": "cf50cf16",
   "metadata": {},
   "outputs": [],
   "source": []
  }
 ],
 "metadata": {
  "kernelspec": {
   "display_name": "Python 3 (ipykernel)",
   "language": "python",
   "name": "python3"
  },
  "language_info": {
   "codemirror_mode": {
    "name": "ipython",
    "version": 3
   },
   "file_extension": ".py",
   "mimetype": "text/x-python",
   "name": "python",
   "nbconvert_exporter": "python",
   "pygments_lexer": "ipython3",
   "version": "3.9.12"
  }
 },
 "nbformat": 4,
 "nbformat_minor": 5
}

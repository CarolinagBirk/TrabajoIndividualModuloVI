{
 "cells": [
  {
   "cell_type": "code",
   "execution_count": 1,
   "id": "1507e09a",
   "metadata": {},
   "outputs": [],
   "source": [
    "from sklearn.metrics import accuracy_score, f1_score, confusion_matrix\n",
    "from sklearn.metrics import mean_squared_error, mean_absolute_error\n",
    "\n",
    "\n",
    "def metrica_accuracy(y_verdad, y_preds):\n",
    "    \"\"\"Métrica de clasificación Accuracy\"\"\"\n",
    "    return accuracy_score(y_verdad, y_preds)\n",
    "\n",
    "\n",
    "def metrica_f1score(y_verdad, y_preds, avg='micro'):\n",
    "    \"\"\"Métrica de clasificación F1-score\"\"\"\n",
    "    return f1_score(y_verdad, y_preds, average=avg)\n",
    "\n",
    "\n",
    "def matriz_confusion(y_verdad, y_preds):\n",
    "    \"\"\"Obtener matriz de confusion\"\"\"\n",
    "    return confusion_matrix(y_verdad, y_preds)\n",
    "\n",
    "\n",
    "def metrica_mse(y_verdad, y_preds):\n",
    "    \"\"\"Métrica de regresión error cuadrático medio\"\"\"\n",
    "    return mean_squared_error(y_verdad, y_preds)\n",
    "\n",
    "def metrica_mae(y_verdad, y_preds):\n",
    "    \"\"\"Métrica de regresión error media absoluta\"\"\"\n",
    "    return mean_absolute_error(y_verdad, y_preds)"
   ]
  },
  {
   "cell_type": "code",
   "execution_count": null,
   "id": "5b7d7959",
   "metadata": {},
   "outputs": [],
   "source": []
  }
 ],
 "metadata": {
  "kernelspec": {
   "display_name": "Python 3 (ipykernel)",
   "language": "python",
   "name": "python3"
  },
  "language_info": {
   "codemirror_mode": {
    "name": "ipython",
    "version": 3
   },
   "file_extension": ".py",
   "mimetype": "text/x-python",
   "name": "python",
   "nbconvert_exporter": "python",
   "pygments_lexer": "ipython3",
   "version": "3.9.12"
  }
 },
 "nbformat": 4,
 "nbformat_minor": 5
}
